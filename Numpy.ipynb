{
 "cells": [
  {
   "cell_type": "code",
   "execution_count": 3,
   "id": "76b9db01-372e-41fb-8e48-b5941b74ee56",
   "metadata": {
    "tags": []
   },
   "outputs": [],
   "source": [
    "import numpy as np"
   ]
  },
  {
   "cell_type": "code",
   "execution_count": 5,
   "id": "1b184cc3-b7f7-4706-9f42-c55740b7f3a3",
   "metadata": {
    "tags": []
   },
   "outputs": [
    {
     "name": "stdout",
     "output_type": "stream",
     "text": [
      "[1 2 3]\n"
     ]
    }
   ],
   "source": [
    "#Array 1 Dimensão\n",
    "d1 = np.array([1,2,3])\n",
    "print(d1)"
   ]
  },
  {
   "cell_type": "code",
   "execution_count": 7,
   "id": "7aa5c539-860c-4eb7-ac16-5b3b2ecb366b",
   "metadata": {
    "tags": []
   },
   "outputs": [
    {
     "data": {
      "text/plain": [
       "(3,)"
      ]
     },
     "execution_count": 7,
     "metadata": {},
     "output_type": "execute_result"
    }
   ],
   "source": [
    "d1.shape # Formato do Array"
   ]
  },
  {
   "cell_type": "code",
   "execution_count": 9,
   "id": "00988580-d461-4ad2-a7ac-9f76c07077b7",
   "metadata": {
    "tags": []
   },
   "outputs": [
    {
     "data": {
      "text/plain": [
       "1"
      ]
     },
     "execution_count": 9,
     "metadata": {},
     "output_type": "execute_result"
    }
   ],
   "source": [
    "#Numero de dimensões\n",
    "d1.ndim"
   ]
  },
  {
   "cell_type": "code",
   "execution_count": 15,
   "id": "d4bcc6b7-953b-4f56-8edc-612918004b0e",
   "metadata": {
    "tags": []
   },
   "outputs": [
    {
     "name": "stdout",
     "output_type": "stream",
     "text": [
      "[[1 2 3]\n",
      " [4 5 6]]\n"
     ]
    }
   ],
   "source": [
    "#Array de 2 Dimensões\n",
    "d2 = np.array([[1,2,3],[4,5,6]])\n",
    "print(d2)"
   ]
  },
  {
   "cell_type": "code",
   "execution_count": 19,
   "id": "4169497b-1815-49ea-91df-a5bab8a85344",
   "metadata": {
    "tags": []
   },
   "outputs": [
    {
     "name": "stdout",
     "output_type": "stream",
     "text": [
      "[[[1 2]\n",
      "  [3 4]]\n",
      "\n",
      " [[5 6]\n",
      "  [7 8]]]\n"
     ]
    }
   ],
   "source": [
    "# Array de 3 Dimensões\n",
    "d3 = np.array([[[1,2],[3,4]],[[5,6],[7,8]]])\n",
    "print(d3)"
   ]
  },
  {
   "cell_type": "code",
   "execution_count": 25,
   "id": "b9cc80d5-98a8-4023-b80d-9f8956060029",
   "metadata": {
    "tags": []
   },
   "outputs": [
    {
     "name": "stdout",
     "output_type": "stream",
     "text": [
      "[ 4  7 10]\n"
     ]
    }
   ],
   "source": [
    "#Somando Arrays\n",
    "a = np.array([2,3,4])\n",
    "b = np.array([2,4,6])\n",
    "#Vamos somar as colunas de array\n",
    "result = np.add(a,b)\n",
    "print(result)"
   ]
  },
  {
   "cell_type": "code",
   "execution_count": 29,
   "id": "1e506e34-69b3-41a1-8a71-e98c5334c591",
   "metadata": {
    "tags": []
   },
   "outputs": [
    {
     "name": "stdout",
     "output_type": "stream",
     "text": [
      "[[2 3 4 5]\n",
      " [6 7 8 9]]\n"
     ]
    }
   ],
   "source": [
    "#Selecionando itens em um array\n",
    "resultado = np.array([[2,3,4,5],[6,7,8,9]])\n",
    "print(resultado)"
   ]
  },
  {
   "cell_type": "code",
   "execution_count": 31,
   "id": "f1469195-9b48-464f-a061-209e6b55a3ab",
   "metadata": {
    "tags": []
   },
   "outputs": [
    {
     "data": {
      "text/plain": [
       "8"
      ]
     },
     "execution_count": 31,
     "metadata": {},
     "output_type": "execute_result"
    }
   ],
   "source": [
    "#Array[row, colu]\n",
    "resultado[1,2]"
   ]
  },
  {
   "cell_type": "code",
   "execution_count": 33,
   "id": "076a5c06-2fc3-4fd8-9487-5707ff2b187e",
   "metadata": {
    "tags": []
   },
   "outputs": [
    {
     "data": {
      "text/plain": [
       "array([2, 3, 4, 5])"
      ]
     },
     "execution_count": 33,
     "metadata": {},
     "output_type": "execute_result"
    }
   ],
   "source": [
    "#Selecionando uma row\n",
    "resultado[0,:]"
   ]
  },
  {
   "cell_type": "code",
   "execution_count": 35,
   "id": "bad06f75-318a-4c73-9b66-43bf543267e2",
   "metadata": {
    "tags": []
   },
   "outputs": [
    {
     "data": {
      "text/plain": [
       "array([4, 8])"
      ]
     },
     "execution_count": 35,
     "metadata": {},
     "output_type": "execute_result"
    }
   ],
   "source": [
    "resultado[:,2]"
   ]
  }
 ],
 "metadata": {
  "kernelspec": {
   "display_name": "Python 3 (ipykernel)",
   "language": "python",
   "name": "python3"
  },
  "language_info": {
   "codemirror_mode": {
    "name": "ipython",
    "version": 3
   },
   "file_extension": ".py",
   "mimetype": "text/x-python",
   "name": "python",
   "nbconvert_exporter": "python",
   "pygments_lexer": "ipython3",
   "version": "3.11.5"
  }
 },
 "nbformat": 4,
 "nbformat_minor": 5
}
